{
 "cells": [
  {
   "cell_type": "code",
   "execution_count": 4,
   "metadata": {},
   "outputs": [
    {
     "name": "stdout",
     "output_type": "stream",
     "text": [
      "<class 'pandas.core.frame.DataFrame'>\n",
      "RangeIndex: 611393 entries, 0 to 611392\n",
      "Data columns (total 19 columns):\n",
      " #   Column               Non-Null Count   Dtype  \n",
      "---  ------               --------------   -----  \n",
      " 0   fecha                611393 non-null  object \n",
      " 1   lat                  550092 non-null  float64\n",
      " 2   lon                  550092 non-null  float64\n",
      " 3   L1                   611393 non-null  object \n",
      " 4   L2                   611393 non-null  object \n",
      " 5   L3                   611393 non-null  object \n",
      " 6   L4                   201219 non-null  object \n",
      " 7   operacion            611393 non-null  object \n",
      " 8   tipo                 611393 non-null  object \n",
      " 9   ambientes            482476 non-null  float64\n",
      " 10  habitaciones         401442 non-null  float64\n",
      " 11  baños                563811 non-null  float64\n",
      " 12  superficie_total     611393 non-null  int64  \n",
      " 13  superficie_cubierta  611393 non-null  int64  \n",
      " 14  precio               611393 non-null  int64  \n",
      " 15  moneda               611393 non-null  object \n",
      " 16  titulo               611393 non-null  object \n",
      " 17  descripcion          611383 non-null  object \n",
      " 18  Precio/Metro         611393 non-null  float64\n",
      "dtypes: float64(6), int64(3), object(10)\n",
      "memory usage: 88.6+ MB\n"
     ]
    }
   ],
   "source": [
    "import pandas as pd\n",
    "import numpy as np\n",
    "import matplotlib.pyplot as plt\n",
    "import seaborn as sns\n",
    "\n",
    "df = pd.read_csv('ventas.csv')\n",
    "\n",
    "df.info()\n",
    "\n"
   ]
  },
  {
   "cell_type": "code",
   "execution_count": null,
   "metadata": {},
   "outputs": [],
   "source": [
    "df = df[df['lat'].isnull() == False]\n",
    "df = df[df['lon'].isnull() == False]\n",
    "df = df[df['lon'].isnull() == False]"
   ]
  },
  {
   "cell_type": "code",
   "execution_count": 3,
   "metadata": {},
   "outputs": [
    {
     "name": "stdout",
     "output_type": "stream",
     "text": [
      "<class 'pandas.core.frame.DataFrame'>\n",
      "Int64Index: 550092 entries, 0 to 611392\n",
      "Data columns (total 19 columns):\n",
      " #   Column               Non-Null Count   Dtype  \n",
      "---  ------               --------------   -----  \n",
      " 0   fecha                550092 non-null  object \n",
      " 1   lat                  550092 non-null  float64\n",
      " 2   lon                  550092 non-null  float64\n",
      " 3   L1                   550092 non-null  object \n",
      " 4   L2                   550092 non-null  object \n",
      " 5   L3                   550092 non-null  object \n",
      " 6   L4                   172498 non-null  object \n",
      " 7   operacion            550092 non-null  object \n",
      " 8   tipo                 550092 non-null  object \n",
      " 9   ambientes            442015 non-null  float64\n",
      " 10  habitaciones         360106 non-null  float64\n",
      " 11  baños                506459 non-null  float64\n",
      " 12  superficie_total     550092 non-null  int64  \n",
      " 13  superficie_cubierta  550092 non-null  int64  \n",
      " 14  precio               550092 non-null  int64  \n",
      " 15  moneda               550092 non-null  object \n",
      " 16  titulo               550092 non-null  object \n",
      " 17  descripcion          550085 non-null  object \n",
      " 18  Precio/Metro         550092 non-null  float64\n",
      "dtypes: float64(6), int64(3), object(10)\n",
      "memory usage: 83.9+ MB\n"
     ]
    }
   ],
   "source": [
    "df.info()\n",
    "\n",
    "\n",
    "\n",
    "\n",
    "\n"
   ]
  }
 ],
 "metadata": {
  "interpreter": {
   "hash": "2fd05debdd55c6ce5c7cfda342d0bed4bdf73d0d50a591524f0da94e64110fde"
  },
  "kernelspec": {
   "display_name": "Python 3.9.7 64-bit ('base': conda)",
   "language": "python",
   "name": "python3"
  },
  "language_info": {
   "codemirror_mode": {
    "name": "ipython",
    "version": 3
   },
   "file_extension": ".py",
   "mimetype": "text/x-python",
   "name": "python",
   "nbconvert_exporter": "python",
   "pygments_lexer": "ipython3",
   "version": "3.9.7"
  },
  "orig_nbformat": 4
 },
 "nbformat": 4,
 "nbformat_minor": 2
}
